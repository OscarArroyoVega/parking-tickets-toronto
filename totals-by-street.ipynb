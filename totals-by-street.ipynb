{
 "cells": [
  {
   "cell_type": "markdown",
   "id": "133d3a5c-cb30-4da9-a514-aa4f97643da8",
   "metadata": {},
   "source": [
    "## Grouping and summarizing by Centreline to make maps"
   ]
  },
  {
   "cell_type": "code",
   "execution_count": null,
   "id": "dbdf9dae-05ff-4a67-b0a5-3e9cf670fc2c",
   "metadata": {},
   "outputs": [],
   "source": [
    "import pandas as pd\n",
    "from pandarallel import pandarallel\n",
    "import geopandas as gpd\n",
    "import numpy as np\n",
    "import os\n",
    "import time"
   ]
  }
 ],
 "metadata": {
  "kernelspec": {
   "display_name": "Python 3 (ipykernel)",
   "language": "python",
   "name": "python3"
  },
  "language_info": {
   "codemirror_mode": {
    "name": "ipython",
    "version": 3
   },
   "file_extension": ".py",
   "mimetype": "text/x-python",
   "name": "python",
   "nbconvert_exporter": "python",
   "pygments_lexer": "ipython3",
   "version": "3.8.13"
  }
 },
 "nbformat": 4,
 "nbformat_minor": 5
}
